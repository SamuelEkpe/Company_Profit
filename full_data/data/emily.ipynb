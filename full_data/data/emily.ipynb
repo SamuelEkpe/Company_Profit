{
 "cells": [
  {
   "cell_type": "code",
   "execution_count": 2,
   "id": "6c5f07ec",
   "metadata": {},
   "outputs": [],
   "source": [
    "import pandas as pd\n",
    "\n",
    "import numpy as np\n",
    "\n",
    "# Import libraries for data visualization\n",
    "import matplotlib.pyplot as plt\n",
    "%matplotlib inline\n",
    "\n",
    "import seaborn as sns\n",
    "\n",
    "from statsmodels.graphics.gofplots import ProbPlot\n",
    "\n",
    "# Import libraries for building linear regression model\n",
    "from statsmodels.formula.api import ols\n",
    "\n",
    "import statsmodels.api as sm\n",
    "\n",
    "from sklearn.linear_model import LinearRegression\n",
    "\n",
    "# Import library for preparing data\n",
    "from sklearn.model_selection import train_test_split\n",
    "\n",
    "# Import library for data preprocessing\n",
    "from sklearn.preprocessing import MinMaxScaler\n",
    "\n",
    "import warnings\n",
    "warnings.filterwarnings(\"ignore\")"
   ]
  },
  {
   "cell_type": "code",
   "execution_count": 5,
   "id": "98cc48e7",
   "metadata": {},
   "outputs": [],
   "source": [
    "dataCat = pd.read_csv('dataCategorical.csv')\n",
    "dataNum = pd.read_csv('dataNumeric.csv')\n",
    "dataOrd = pd.read_csv('dataOrdinal.csv')\n"
   ]
  },
  {
   "cell_type": "code",
   "execution_count": 48,
   "id": "7193a915",
   "metadata": {},
   "outputs": [
    {
     "name": "stdout",
     "output_type": "stream",
     "text": [
      "<class 'pandas.core.frame.DataFrame'>\n",
      "Int64Index: 5000 entries, 355467 to 168122\n",
      "Data columns (total 22 columns):\n",
      " #   Column      Non-Null Count  Dtype   \n",
      "---  ------      --------------  -----   \n",
      " 0   DIABETE3    5000 non-null   category\n",
      " 1   _RACE       4997 non-null   category\n",
      " 2   MSCODE      3187 non-null   category\n",
      " 3   FLUSHOT6    4762 non-null   category\n",
      " 4   EMPLOY1     4981 non-null   category\n",
      " 5   SEX         5000 non-null   category\n",
      " 6   MARITAL     4990 non-null   category\n",
      " 7   CVDCRHD4    5000 non-null   category\n",
      " 8   HLTHCVR1    3318 non-null   category\n",
      " 9   CHCKIDNY    5000 non-null   category\n",
      " 10  USEEQUIP    4837 non-null   category\n",
      " 11  _TOTINDA    5000 non-null   category\n",
      " 12  ADDEPEV2    5000 non-null   category\n",
      " 13  RENTHOM1    4898 non-null   category\n",
      " 14  EXERANY2    5000 non-null   category\n",
      " 15  BLIND       4830 non-null   category\n",
      " 16  DECIDE      4829 non-null   category\n",
      " 17  HLTHPLN1    5000 non-null   category\n",
      " 18  DIABETE3.1  5000 non-null   category\n",
      " 19  _STATE      5000 non-null   category\n",
      " 20  ASTHMA3     5000 non-null   category\n",
      " 21  MARITAL.1   4990 non-null   category\n",
      "dtypes: category(22)\n",
      "memory usage: 153.8 KB\n",
      "None\n",
      "<class 'pandas.core.frame.DataFrame'>\n",
      "RangeIndex: 5000 entries, 0 to 4999\n",
      "Data columns (total 6 columns):\n",
      " #   Column    Non-Null Count  Dtype  \n",
      "---  ------    --------------  -----  \n",
      " 0   PERSONID  5000 non-null   int64  \n",
      " 1   DIABETE3  5000 non-null   float64\n",
      " 2   NUMADULT  3240 non-null   float64\n",
      " 3   CHILDREN  4988 non-null   float64\n",
      " 4   WEIGHT2   4950 non-null   float64\n",
      " 5   DRVISITS  3567 non-null   float64\n",
      "dtypes: float64(5), int64(1)\n",
      "memory usage: 234.5 KB\n",
      "None\n",
      "<class 'pandas.core.frame.DataFrame'>\n",
      "RangeIndex: 5000 entries, 0 to 4999\n",
      "Data columns (total 10 columns):\n",
      " #   Column    Non-Null Count  Dtype   \n",
      "---  ------    --------------  -----   \n",
      " 0   DIABETE3  5000 non-null   category\n",
      " 1   GENHLTH   5000 non-null   category\n",
      " 2   _AGEG5YR  5000 non-null   category\n",
      " 3   _BMI5CAT  4681 non-null   category\n",
      " 4   CHECKUP1  5000 non-null   category\n",
      " 5   INCOME2   4962 non-null   category\n",
      " 6   _EDUCAG   5000 non-null   category\n",
      " 7   SLEPTIM1  5000 non-null   category\n",
      " 8   MENTHLTH  5000 non-null   category\n",
      " 9   _SMOKER3  5000 non-null   category\n",
      "dtypes: category(10)\n",
      "memory usage: 53.5 KB\n",
      "None\n"
     ]
    }
   ],
   "source": [
    "\n",
    "dataCat['DIABETE3'] = pd.Categorical(dataCat.DIABETE3)\n",
    "#dataCat.set_index('PERSONID', inplace = True) # making the 'PERSONID' the index column\n",
    "catVars =['_RACE','MSCODE','FLUSHOT6','EMPLOY1','SEX','MARITAL','CVDCRHD4','HLTHCVR1','CHCKIDNY','USEEQUIP','_TOTINDA','ADDEPEV2','RENTHOM1','EXERANY2','BLIND','DECIDE','HLTHPLN1', 'DIABETE3.1','_STATE','ASTHMA3','MARITAL.1'] \n",
    "dataCat[catVars] = dataCat[catVars].astype('category') # converting the above listed variables to categorical vars.\n",
    "print(dataCat.info())\n",
    "print(dataNum.info())\n",
    "print(dataOrd.info())\n",
    "#dataCat.drop(columns ='PERSONID', inplace =True)"
   ]
  },
  {
   "cell_type": "code",
   "execution_count": 38,
   "id": "fc5a1eb7",
   "metadata": {},
   "outputs": [
    {
     "name": "stdout",
     "output_type": "stream",
     "text": [
      "<class 'pandas.core.frame.DataFrame'>\n",
      "RangeIndex: 5000 entries, 0 to 4999\n",
      "Data columns (total 11 columns):\n",
      " #   Column    Non-Null Count  Dtype   \n",
      "---  ------    --------------  -----   \n",
      " 0   PERSONID  5000 non-null   int64   \n",
      " 1   DIABETE3  5000 non-null   category\n",
      " 2   GENHLTH   5000 non-null   category\n",
      " 3   _AGEG5YR  5000 non-null   category\n",
      " 4   _BMI5CAT  4681 non-null   category\n",
      " 5   CHECKUP1  5000 non-null   category\n",
      " 6   INCOME2   4962 non-null   category\n",
      " 7   _EDUCAG   5000 non-null   category\n",
      " 8   SLEPTIM1  5000 non-null   category\n",
      " 9   MENTHLTH  5000 non-null   category\n",
      " 10  _SMOKER3  5000 non-null   category\n",
      "dtypes: category(10), int64(1)\n",
      "memory usage: 92.5 KB\n"
     ]
    }
   ],
   "source": [
    "ordVars =['DIABETE3','GENHLTH','_AGEG5YR','_BMI5CAT','CHECKUP1','INCOME2','_EDUCAG','SLEPTIM1','MENTHLTH','_SMOKER3']\n",
    "dataOrd[ordVars] = dataOrd[ordVars].astype('category')\n",
    "dataOrd.info()\n"
   ]
  },
  {
   "cell_type": "code",
   "execution_count": 50,
   "id": "169b4761",
   "metadata": {},
   "outputs": [
    {
     "name": "stdout",
     "output_type": "stream",
     "text": [
      "<class 'pandas.core.frame.DataFrame'>\n",
      "RangeIndex: 5000 entries, 0 to 4999\n",
      "Data columns (total 10 columns):\n",
      " #   Column    Non-Null Count  Dtype   \n",
      "---  ------    --------------  -----   \n",
      " 0   DIABETE3  5000 non-null   category\n",
      " 1   GENHLTH   5000 non-null   category\n",
      " 2   _AGEG5YR  5000 non-null   category\n",
      " 3   _BMI5CAT  4681 non-null   category\n",
      " 4   CHECKUP1  5000 non-null   category\n",
      " 5   INCOME2   4962 non-null   category\n",
      " 6   _EDUCAG   5000 non-null   category\n",
      " 7   SLEPTIM1  5000 non-null   category\n",
      " 8   MENTHLTH  5000 non-null   category\n",
      " 9   _SMOKER3  5000 non-null   category\n",
      "dtypes: category(10)\n",
      "memory usage: 53.5 KB\n"
     ]
    }
   ],
   "source": [
    "#dataOrd.drop(columns ='PERSONID', inplace =True)\n",
    "dataOrd.info()\n",
    "dataNum.drop(columns ='PERSONID', inplace =True)"
   ]
  },
  {
   "cell_type": "code",
   "execution_count": 80,
   "id": "96bad83a",
   "metadata": {},
   "outputs": [
    {
     "ename": "SyntaxError",
     "evalue": "cannot assign to function call (Temp/ipykernel_17832/2768720160.py, line 6)",
     "output_type": "error",
     "traceback": [
      "\u001b[1;36m  File \u001b[1;32m\"C:\\Users\\HP\\AppData\\Local\\Temp/ipykernel_17832/2768720160.py\"\u001b[1;36m, line \u001b[1;32m6\u001b[0m\n\u001b[1;33m    for string(i) in summ:\u001b[0m\n\u001b[1;37m        ^\u001b[0m\n\u001b[1;31mSyntaxError\u001b[0m\u001b[1;31m:\u001b[0m cannot assign to function call\n"
     ]
    }
   ],
   "source": [
    "'''\n",
    "dataOrd.info()\n",
    "dataCat.info()\n",
    "dataNum.info() '''\n",
    "summ=dataCat.value_counts()\n",
    "for string(i) in summ:\n",
    "    print(i.value_counts())\n"
   ]
  },
  {
   "cell_type": "code",
   "execution_count": 56,
   "id": "2bb41c3f",
   "metadata": {},
   "outputs": [
    {
     "name": "stdout",
     "output_type": "stream",
     "text": [
      "<class 'pandas.core.frame.DataFrame'>\n",
      "Index: 0 entries\n",
      "Data columns (total 35 columns):\n",
      " #   Column      Non-Null Count  Dtype   \n",
      "---  ------      --------------  -----   \n",
      " 0   _RACE       0 non-null      category\n",
      " 1   MSCODE      0 non-null      category\n",
      " 2   FLUSHOT6    0 non-null      category\n",
      " 3   EMPLOY1     0 non-null      category\n",
      " 4   SEX         0 non-null      category\n",
      " 5   MARITAL     0 non-null      category\n",
      " 6   CVDCRHD4    0 non-null      category\n",
      " 7   HLTHCVR1    0 non-null      category\n",
      " 8   CHCKIDNY    0 non-null      category\n",
      " 9   USEEQUIP    0 non-null      category\n",
      " 10  _TOTINDA    0 non-null      category\n",
      " 11  ADDEPEV2    0 non-null      category\n",
      " 12  RENTHOM1    0 non-null      category\n",
      " 13  EXERANY2    0 non-null      category\n",
      " 14  BLIND       0 non-null      category\n",
      " 15  DECIDE      0 non-null      category\n",
      " 16  HLTHPLN1    0 non-null      category\n",
      " 17  DIABETE3.1  0 non-null      category\n",
      " 18  _STATE      0 non-null      category\n",
      " 19  ASTHMA3     0 non-null      category\n",
      " 20  MARITAL.1   0 non-null      category\n",
      " 21  GENHLTH     0 non-null      category\n",
      " 22  _AGEG5YR    0 non-null      category\n",
      " 23  _BMI5CAT    0 non-null      category\n",
      " 24  CHECKUP1    0 non-null      category\n",
      " 25  INCOME2     0 non-null      category\n",
      " 26  _EDUCAG     0 non-null      category\n",
      " 27  SLEPTIM1    0 non-null      category\n",
      " 28  MENTHLTH    0 non-null      category\n",
      " 29  _SMOKER3    0 non-null      category\n",
      " 30  DIABETE3    0 non-null      float64 \n",
      " 31  NUMADULT    0 non-null      float64 \n",
      " 32  CHILDREN    0 non-null      float64 \n",
      " 33  WEIGHT2     0 non-null      float64 \n",
      " 34  DRVISITS    0 non-null      float64 \n",
      "dtypes: category(30), float64(5)\n",
      "memory usage: 11.4+ KB\n"
     ]
    },
    {
     "data": {
      "text/html": [
       "<div>\n",
       "<style scoped>\n",
       "    .dataframe tbody tr th:only-of-type {\n",
       "        vertical-align: middle;\n",
       "    }\n",
       "\n",
       "    .dataframe tbody tr th {\n",
       "        vertical-align: top;\n",
       "    }\n",
       "\n",
       "    .dataframe thead th {\n",
       "        text-align: right;\n",
       "    }\n",
       "</style>\n",
       "<table border=\"1\" class=\"dataframe\">\n",
       "  <thead>\n",
       "    <tr style=\"text-align: right;\">\n",
       "      <th></th>\n",
       "      <th>DIABETE3</th>\n",
       "      <th>NUMADULT</th>\n",
       "      <th>CHILDREN</th>\n",
       "      <th>WEIGHT2</th>\n",
       "      <th>DRVISITS</th>\n",
       "    </tr>\n",
       "  </thead>\n",
       "  <tbody>\n",
       "    <tr>\n",
       "      <th>DIABETE3</th>\n",
       "      <td>NaN</td>\n",
       "      <td>NaN</td>\n",
       "      <td>NaN</td>\n",
       "      <td>NaN</td>\n",
       "      <td>NaN</td>\n",
       "    </tr>\n",
       "    <tr>\n",
       "      <th>NUMADULT</th>\n",
       "      <td>NaN</td>\n",
       "      <td>NaN</td>\n",
       "      <td>NaN</td>\n",
       "      <td>NaN</td>\n",
       "      <td>NaN</td>\n",
       "    </tr>\n",
       "    <tr>\n",
       "      <th>CHILDREN</th>\n",
       "      <td>NaN</td>\n",
       "      <td>NaN</td>\n",
       "      <td>NaN</td>\n",
       "      <td>NaN</td>\n",
       "      <td>NaN</td>\n",
       "    </tr>\n",
       "    <tr>\n",
       "      <th>WEIGHT2</th>\n",
       "      <td>NaN</td>\n",
       "      <td>NaN</td>\n",
       "      <td>NaN</td>\n",
       "      <td>NaN</td>\n",
       "      <td>NaN</td>\n",
       "    </tr>\n",
       "    <tr>\n",
       "      <th>DRVISITS</th>\n",
       "      <td>NaN</td>\n",
       "      <td>NaN</td>\n",
       "      <td>NaN</td>\n",
       "      <td>NaN</td>\n",
       "      <td>NaN</td>\n",
       "    </tr>\n",
       "  </tbody>\n",
       "</table>\n",
       "</div>"
      ],
      "text/plain": [
       "          DIABETE3  NUMADULT  CHILDREN  WEIGHT2  DRVISITS\n",
       "DIABETE3       NaN       NaN       NaN      NaN       NaN\n",
       "NUMADULT       NaN       NaN       NaN      NaN       NaN\n",
       "CHILDREN       NaN       NaN       NaN      NaN       NaN\n",
       "WEIGHT2        NaN       NaN       NaN      NaN       NaN\n",
       "DRVISITS       NaN       NaN       NaN      NaN       NaN"
      ]
     },
     "execution_count": 56,
     "metadata": {},
     "output_type": "execute_result"
    }
   ],
   "source": [
    "cat_num = dataCat.merge(dataOrd, how ='inner')\n",
    "allData = cat_num.merge(dataNum, how ='inner')\n",
    "allData.info()\n",
    "allData.corr()"
   ]
  },
  {
   "cell_type": "code",
   "execution_count": 63,
   "id": "2c52e814",
   "metadata": {},
   "outputs": [
    {
     "name": "stdout",
     "output_type": "stream",
     "text": [
      "DIABETE3       0\n",
      "NUMADULT    1760\n",
      "CHILDREN      12\n",
      "WEIGHT2       50\n",
      "DRVISITS    1433\n",
      "dtype: int64\n"
     ]
    },
    {
     "data": {
      "text/plain": [
       "_RACE         0.0\n",
       "MSCODE        0.0\n",
       "FLUSHOT6      0.0\n",
       "EMPLOY1       0.0\n",
       "SEX           0.0\n",
       "MARITAL       0.0\n",
       "CVDCRHD4      0.0\n",
       "HLTHCVR1      0.0\n",
       "CHCKIDNY      0.0\n",
       "USEEQUIP      0.0\n",
       "_TOTINDA      0.0\n",
       "ADDEPEV2      0.0\n",
       "RENTHOM1      0.0\n",
       "EXERANY2      0.0\n",
       "BLIND         0.0\n",
       "DECIDE        0.0\n",
       "HLTHPLN1      0.0\n",
       "DIABETE3.1    0.0\n",
       "_STATE        0.0\n",
       "ASTHMA3       0.0\n",
       "MARITAL.1     0.0\n",
       "GENHLTH       0.0\n",
       "_AGEG5YR      0.0\n",
       "_BMI5CAT      0.0\n",
       "CHECKUP1      0.0\n",
       "INCOME2       0.0\n",
       "_EDUCAG       0.0\n",
       "SLEPTIM1      0.0\n",
       "MENTHLTH      0.0\n",
       "_SMOKER3      0.0\n",
       "DIABETE3      0.0\n",
       "NUMADULT      0.0\n",
       "CHILDREN      0.0\n",
       "WEIGHT2       0.0\n",
       "DRVISITS      0.0\n",
       "dtype: float64"
      ]
     },
     "execution_count": 63,
     "metadata": {},
     "output_type": "execute_result"
    }
   ],
   "source": [
    "print(dataNum.isnull().sum())\n",
    "dataNum['NUMADULT'].fillna(value =dataNum['NUMADULT'].mean())\n",
    "allData.isnull().sum()"
   ]
  }
 ],
 "metadata": {
  "kernelspec": {
   "display_name": "Python 3 (ipykernel)",
   "language": "python",
   "name": "python3"
  },
  "language_info": {
   "codemirror_mode": {
    "name": "ipython",
    "version": 3
   },
   "file_extension": ".py",
   "mimetype": "text/x-python",
   "name": "python",
   "nbconvert_exporter": "python",
   "pygments_lexer": "ipython3",
   "version": "3.11.5"
  }
 },
 "nbformat": 4,
 "nbformat_minor": 5
}
